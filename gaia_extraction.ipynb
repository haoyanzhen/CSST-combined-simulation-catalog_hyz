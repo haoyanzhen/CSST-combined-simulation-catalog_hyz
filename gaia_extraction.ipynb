{
 "cells": [
  {
   "cell_type": "code",
   "execution_count": null,
   "metadata": {},
   "outputs": [
    {
     "data": {
      "text/plain": [
       "554006"
      ]
     },
     "metadata": {},
     "output_type": "display_data"
    }
   ],
   "source": [
    "import healpy as hp\n",
    "import pandas as pd\n",
    "import os\n",
    "\n",
    "\n",
    "nside = 256\n",
    "ra = 74.0563449685417\n",
    "dec = -34.155241212932374\n",
    "target_pix = hp.ang2pix(nside,ra,dec,nest=True,lonlat=True)\n",
    "target_pix"
   ]
  },
  {
   "cell_type": "code",
   "execution_count": null,
   "metadata": {},
   "outputs": [
    {
     "data": {
      "text/plain": [
       "'GaiaSource_553778-556045.csv'"
      ]
     },
     "metadata": {},
     "output_type": "display_data"
    }
   ],
   "source": [
    "for i in os.listdir('/media/hyz/dwarfcave/data/gaiaDR3/ms'):\n",
    "    if i.endswith('.csv'):\n",
    "        if int(i.split('-')[1].split('.csv')[0]) >= target_pix and int(i.split('-')[0].split('_')[1]) <= target_pix:\n",
    "            target_file = i\n",
    "            break\n",
    "target_file"
   ]
  },
  {
   "cell_type": "code",
   "execution_count": null,
   "metadata": {},
   "outputs": [],
   "source": [
    "gaiatb = pd.read_csv('/media/hyz/dwarfcave/data/gaiaDR3/ms/%s'%target_file,comment='#')\n",
    "selection_g = gaiatb[(gaiatb['ra']-ra)**2+(gaiatb['dec']-dec)**2<=(1/12)**2]\n",
    "selection_g.to_csv('./selection20230413_gaia.csv')"
   ]
  }
 ],
 "metadata": {
  "kernelspec": {
   "display_name": "Python 3.9.13 64-bit (microsoft store)",
   "language": "python",
   "name": "python3"
  },
  "language_info": {
   "name": "python",
   "version": "3.9.13"
  },
  "orig_nbformat": 4,
  "vscode": {
   "interpreter": {
    "hash": "330291e952ef2592d61b7857e145d2070e6df96cbb58463d8ee825546f424b29"
   }
  }
 },
 "nbformat": 4,
 "nbformat_minor": 2
}
